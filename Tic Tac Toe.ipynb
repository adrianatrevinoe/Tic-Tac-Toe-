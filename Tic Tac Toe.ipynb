{
 "cells": [
  {
   "cell_type": "code",
   "execution_count": 2,
   "id": "b20cfe3d",
   "metadata": {},
   "outputs": [],
   "source": [
    "def choosing_player():\n",
    "    player1 = 'wrong'\n",
    "    player2 = ''\n",
    "    acceptable_values = ['X','O']\n",
    "    \n",
    "    while player1 not in acceptable_values:\n",
    "        player1 = str(input('Player 1: Do you want to be X or O? ')).upper()\n",
    "        \n",
    "        if player1 not in acceptable_values:\n",
    "            #while marker != 'X' and marker != 'O'\n",
    "            print('Sorry please provide a correct iput (X or O)')\n",
    "\n",
    "    if player1 == 'X':\n",
    "        player2 = 'O'\n",
    "       \n",
    "    elif player1 == 'O':\n",
    "        player2 = 'X'\n",
    "        \n",
    "    return player1,player2\n",
    "    \n",
    "    \n",
    "            "
   ]
  },
  {
   "cell_type": "code",
   "execution_count": 3,
   "id": "f1bf314d",
   "metadata": {},
   "outputs": [],
   "source": [
    "def start_game():\n",
    "    choice = 'wrong'\n",
    "    acceptable_values = ['YES','NO']\n",
    "    \n",
    "    while choice not in acceptable_values:\n",
    "        choice = str(input('Are you ready to play? Enter Yes or No. ')).upper()\n",
    "        if choice not in acceptable_values:\n",
    "            print('Sorry please provide a correct answer (Yes or No)')\n",
    "        \n",
    "    if choice == 'YES':\n",
    "        return True\n",
    "    else:\n",
    "        return False"
   ]
  },
  {
   "cell_type": "code",
   "execution_count": 4,
   "id": "631542d4",
   "metadata": {},
   "outputs": [],
   "source": [
    "def gameon_choice():\n",
    "    choice = 'wrong'\n",
    "    acceptable_values = ['YES','NO']\n",
    "    \n",
    "    while choice not in acceptable_values:\n",
    "        choice = str(input('Do you want to play again? Enter Yes or No. ')).upper()\n",
    "        \n",
    "        if choice not in acceptable_values:\n",
    "            print('Sorry please provide a correct answer (Yes or No)')\n",
    "        \n",
    "    if choice == 'YES':\n",
    "        return True\n",
    "    else:\n",
    "        return False"
   ]
  },
  {
   "cell_type": "code",
   "execution_count": 5,
   "id": "fdbe89c2",
   "metadata": {},
   "outputs": [],
   "source": [
    "from IPython.display import clear_output\n",
    "\n",
    "def display_board(board):\n",
    "    clear_output()\n",
    "    print('  ' + board[7]+' | '+board[8]+' | '+board[9])\n",
    "    print(' --- ' + '--- ' + '--- ')\n",
    "    print('  ' + board[4]+' | '+board[5]+' | '+board[6])\n",
    "    print(' --- ' + '--- ' + '--- ')\n",
    "    print('  ' + board[1]+' | '+board[2]+' | '+board[3])"
   ]
  },
  {
   "cell_type": "code",
   "execution_count": 6,
   "id": "6bea2a38",
   "metadata": {},
   "outputs": [],
   "source": [
    "def player1_position():\n",
    "    display_board(board)\n",
    "    \n",
    "    player1_pos = int(input(f'Player 1 {player1} Turn: '))\n",
    "    board[player1_pos] = player1\n",
    "    \n",
    "    display_board(board)"
   ]
  },
  {
   "cell_type": "code",
   "execution_count": 7,
   "id": "b8e8d28f",
   "metadata": {},
   "outputs": [],
   "source": [
    "def player2_position():\n",
    "    display_board(board)\n",
    "    \n",
    "    player2_pos = int(input(f'Player 2 {player2} Turn: '))\n",
    "    \n",
    "    board[player2_pos] = player2\n",
    "    \n",
    "    display_board(board)\n",
    "    "
   ]
  },
  {
   "cell_type": "code",
   "execution_count": 15,
   "id": "b3a78ad6",
   "metadata": {},
   "outputs": [
    {
     "name": "stdout",
     "output_type": "stream",
     "text": [
      "  7  | 8  | 9 \n",
      " --- --- --- \n",
      "  4  | 5  | 6 \n",
      " --- --- --- \n",
      "  1  | 2  | 3 \n",
      "range(0, 10)\n"
     ]
    }
   ],
   "source": [
    "boardx = ['# ','1 ','2 ','3 ','4 ','5 ','6 ','7 ','8 ','9 ']\n",
    "display_board(boardx)\n",
    "print(range(len(boardx)))\n"
   ]
  },
  {
   "cell_type": "code",
   "execution_count": 16,
   "id": "c34213b9",
   "metadata": {},
   "outputs": [],
   "source": [
    "def win(board): #0 3 6   #0 1 2 (#0 4 8 # 2 4 6)\n",
    "    for i in range(len(board)):\n",
    "        if i == 1 or i == 4 or i == 7:\n",
    "            if (board[i] and board[i+1] and board[i+2]) == player1:\n",
    "                return player1\n",
    "            elif (board[i] and board[i+1] and board[i+2]) == player2:\n",
    "                return player2\n",
    "\n",
    "    if (board[7] and board[5] and board[3]) or (board[1] and board[5] and board[9]) == player1:\n",
    "            return player1\n",
    "    elif (board[7] and board[5] and board[3])  or (board[1] and board[5] and board[9]) == player2:\n",
    "            return player2\n",
    "           \n",
    "    else: \n",
    "        return False"
   ]
  },
  {
   "cell_type": "code",
   "execution_count": null,
   "id": "4f8bf96b",
   "metadata": {},
   "outputs": [
    {
     "name": "stdout",
     "output_type": "stream",
     "text": [
      "    |   |  \n",
      " --- --- --- \n",
      "  X |   |  \n",
      " --- --- --- \n",
      "    |   |  \n",
      "Win  X\n"
     ]
    }
   ],
   "source": [
    "print('Welcome to Tic Tac Toe!')\n",
    "\n",
    "player1,player2 = choosing_player()\n",
    "print(player1,player2)\n",
    "\n",
    "game_choice = True\n",
    "winned = 0\n",
    "tie_counter = 0\n",
    "\n",
    "play = start_game() #are you ready to play (yes no)\n",
    "\n",
    "board = [' ',' ',' ',' ',' ',' ',' ',' ',' ',' ']\n",
    "\n",
    "while game_choice == True and play == True : #ready to play\n",
    "\n",
    "        \n",
    "    tie_counter += 1\n",
    "    player1_position()\n",
    "    player_win = win(board)   \n",
    "    if player_win== (player1 or player2):\n",
    "        print('Win ', player_win)\n",
    "        game_choice = gameon_choice()\n",
    "        if game_choice == False:\n",
    "            pass\n",
    "        \n",
    "            \n",
    "    if tie_counter == 9:\n",
    "        print('Tie')\n",
    "        game_choice = gameon_choice()\n",
    "        \n",
    "    tie_counter += 1\n",
    "    player2_position()\n",
    "    player_win = win(board)  \n",
    "    if player_win == (player1 or player2):\n",
    "        print('Win ', player_win)\n",
    "        game_choice = gameon_choice()\n",
    "        \n",
    "    \n",
    "    "
   ]
  },
  {
   "cell_type": "code",
   "execution_count": null,
   "id": "122f4a16",
   "metadata": {},
   "outputs": [],
   "source": [
    "board"
   ]
  },
  {
   "cell_type": "code",
   "execution_count": null,
   "id": "308c3337",
   "metadata": {},
   "outputs": [],
   "source": []
  },
  {
   "cell_type": "code",
   "execution_count": null,
   "id": "9bfe1436",
   "metadata": {},
   "outputs": [],
   "source": []
  },
  {
   "cell_type": "code",
   "execution_count": null,
   "id": "af5bab42",
   "metadata": {},
   "outputs": [],
   "source": []
  }
 ],
 "metadata": {
  "kernelspec": {
   "display_name": "Python 3 (ipykernel)",
   "language": "python",
   "name": "python3"
  },
  "language_info": {
   "codemirror_mode": {
    "name": "ipython",
    "version": 3
   },
   "file_extension": ".py",
   "mimetype": "text/x-python",
   "name": "python",
   "nbconvert_exporter": "python",
   "pygments_lexer": "ipython3",
   "version": "3.9.12"
  }
 },
 "nbformat": 4,
 "nbformat_minor": 5
}
